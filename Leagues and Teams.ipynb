{
 "cells": [
  {
   "cell_type": "markdown",
   "metadata": {},
   "source": [
    "### Looking at League and Team API options"
   ]
  },
  {
   "cell_type": "code",
   "execution_count": 1,
   "metadata": {},
   "outputs": [],
   "source": [
    "from nba_api.stats.endpoints import leaguegamefinder\n",
    "from nba_api.stats.static.teams import get_teams\n",
    "import pandas as pd"
   ]
  },
  {
   "cell_type": "markdown",
   "metadata": {},
   "source": [
    "On the API docs, I found a place where LEAGUE_ID was set to either '20' or '00', so let's try those."
   ]
  },
  {
   "cell_type": "code",
   "execution_count": 2,
   "metadata": {},
   "outputs": [
    {
     "name": "stdout",
     "output_type": "stream",
     "text": [
      "['Chicago Bulls' 'Portland Trail Blazers' 'Miami Heat' 'Charlotte Hornets'\n",
      " 'Detroit Pistons' 'Cleveland Cavaliers' 'New Orleans Pelicans'\n",
      " 'Atlanta Hawks' 'Boston Celtics' 'San Antonio Spurs' 'Denver Nuggets'\n",
      " 'Los Angeles Lakers' 'Houston Rockets' 'Indiana Pacers' 'Utah Jazz'\n",
      " 'Philadelphia 76ers' 'Memphis Grizzlies' 'New York Knicks'\n",
      " 'Toronto Raptors' 'Brooklyn Nets' 'LA Clippers' 'Oklahoma City Thunder'\n",
      " 'Orlando Magic' 'Phoenix Suns' 'Minnesota Timberwolves'\n",
      " 'Washington Wizards' 'Dallas Mavericks' 'Golden State Warriors'\n",
      " 'Milwaukee Bucks' 'Sacramento Kings' 'Guangzhou Long-Lions'\n",
      " 'Haifa Maccabi Haifa' 'Shanghai Sharks' 'Adelaide 36ers'\n",
      " 'Melbourne United' 'Flamengo Flamengo' 'Perth Wildcats'\n",
      " 'New Zealand Breakers' 'Sydney Kings' 'Beijing Ducks' 'Team LeBron'\n",
      " 'Team Stephen' 'World World' 'USA USA' 'Brisbane Bullets'\n",
      " 'West NBA All Stars West' 'East NBA All Stars East'\n",
      " 'East Celebrities East' 'West Celebrities West'\n",
      " 'Buenos Aires San Lorenzo' 'Barcelona FC Barcelona Lassa'\n",
      " 'Madrid Real Madrid' 'Shanghai Shanghai Sharks'\n",
      " 'Canada Celebrities Canada' 'USA Celebrities USA'\n",
      " 'Bauru Paschoalotto/Bauru' 'Istanbul Fenerbahce Sports Club'\n",
      " 'Milano Olimpia Milano' 'Los Angeles Clippers'\n",
      " 'Istanbul Fenerbahce Ulker' 'Berlin Alba Berlin'\n",
      " 'Tel Aviv Maccabi Electra' 'Charlotte Bobcats' 'Team Hill' 'Team Webber'\n",
      " 'Moscow CSKA' 'Bilbao Basket' 'New Orleans Hornets' 'Team Chuck'\n",
      " 'Team Shaq' 'Barcelona FC Barcelona Regal' 'Siena Montepaschi Siena'\n",
      " 'Milano EA7 Emporio Armani Milano' 'New Jersey Nets'\n",
      " 'Team Shaq Team Shaq' 'Team Chuck Team Chuck' 'Rookies Rookies'\n",
      " 'Sophomores Sophomores' 'Vitoria Caja Laboral' 'Barcelona Regal FC'\n",
      " 'Milano Armani Jeans Milano' 'East Dallas Dallas'\n",
      " 'Tel Aviv Maccabi Elite' 'Athens Olympiacos' 'Real Madrid Real Madrid'\n",
      " 'Belegrade Partizan' 'East Sunrisers Sunrisers'\n",
      " 'West Sunsetters Sunsetters' 'Vilnius Lietuvos Rytas'\n",
      " 'Seattle SuperSonics' 'Hornets Hornets' 'New Orleans New Orleans']\n",
      "['Delaware Blue Coats' 'Maine Red Claws' 'Iowa Wolves'\n",
      " 'Rio Grande Valley Vipers' 'Greensboro Swarm' 'South Bay Lakers'\n",
      " 'Stockton Kings' 'Raptors 905' 'Texas Legends' 'Santa Cruz Warriors'\n",
      " 'Long Island Nets' 'Northern Arizona Suns' 'Windy City Bulls'\n",
      " 'Memphis Hustle' 'Canton Charge' 'Wisconsin Herd' 'Westchester Knicks'\n",
      " 'Grand Rapids Drive' 'Austin Spurs' 'Erie BayHawks' 'Capital City Go-Go'\n",
      " 'Lakeland Magic' 'Sioux Falls Skyforce' 'Oklahoma City Blue'\n",
      " 'Salt Lake City Stars' 'Fort Wayne Mad Ants' 'Team Mexico'\n",
      " 'Reno Bighorns' 'Agua Caliente Clippers' 'Delaware 87ers'\n",
      " 'NBA G League USA NBA G League USA'\n",
      " 'Mexico National Team Mexico National Team' 'Los Angeles D-Fenders'\n",
      " 'Iowa Energy' 'West NBADL All Stars West' 'East NBADL All Stars East'\n",
      " 'Idaho Stampede' 'Bakersfield Jam' 'London London Lightning'\n",
      " 'Eastern Conference Futures' 'Western Conference Prospects'\n",
      " 'Monterrey Fuerza Regia' 'Springfield Armor' 'Tulsa 66ers' 'Austin Toros'\n",
      " 'DLeague Prospects AllStars Prospects' 'DLeague Futures AllStars Futures'\n",
      " 'Tampico Huracanes de Tampico' 'Dakota Wizards'\n",
      " 'DLeague West AllStars West' 'DLeague East AllStars East' 'Utah Flash'\n",
      " 'New Mexico Thunderbirds' 'Albuquerque Thunderbirds' 'Colorado 14ers'\n",
      " 'Anaheim Arsenal' 'DLeague Blue All Stars Blue'\n",
      " 'DLeague Red All Stars Red' 'Fort Worth Flyers' 'Arkansas RimRockers'\n",
      " 'Florida Flame' 'Roanoke Dazzle' 'Fayetteville Patriots' 'Tulsa 66er'\n",
      " 'North Charleston Lowgators' 'Columbus Riverdragons' 'Huntsville Flight'\n",
      " 'Asheville Altitude']\n"
     ]
    }
   ],
   "source": [
    "league00 = leaguegamefinder.LeagueGameFinder(league_id_nullable='00')\n",
    "league20 = leaguegamefinder.LeagueGameFinder(league_id_nullable='20')\n",
    "print(league00.get_data_frames()[0].TEAM_NAME.unique())\n",
    "print(league20.get_data_frames()[0].TEAM_NAME.unique())"
   ]
  },
  {
   "cell_type": "markdown",
   "metadata": {},
   "source": [
    "It looks to me like LEAGUE_ID '00' is major leagues teams -- NBA, WNBA, and international -- while LEAGUE_ID '20' is national teams and G-League teams.\n",
    "\n",
    "That's not a very good level of granularity, it seems like there should be a way to uniquely identify a league.\n",
    "Maybe there are other 2-digit codes for certain leagues or groups of leagues?\n",
    "We can easily check them all."
   ]
  },
  {
   "cell_type": "code",
   "execution_count": 3,
   "metadata": {},
   "outputs": [
    {
     "data": {
      "text/html": [
       "<div><progress style=width:\"60ex\" max=\"100\" value=\"29\" class=\"Progress-main\"/></progress>\n",
       "<span class=\"Progress-label\"><strong>29%</strong></span>\n",
       "<span class=\"Iteration-label\">29/100</span>\n",
       "<span class=\"Time-label\">[0.55<17.26, 0.60s/it]</span></div>"
      ],
      "text/plain": [
       "[=================                                           ] 29/100"
      ]
     },
     "metadata": {},
     "output_type": "display_data"
    },
    {
     "ename": "KeyboardInterrupt",
     "evalue": "",
     "output_type": "error",
     "traceback": [
      "\u001b[0;31m---------------------------------------------------------------------------\u001b[0m",
      "\u001b[0;31mTypeError\u001b[0m                                 Traceback (most recent call last)",
      "\u001b[0;32m/anaconda3/envs/nba/lib/python3.7/site-packages/urllib3/connectionpool.py\u001b[0m in \u001b[0;36m_make_request\u001b[0;34m(self, conn, method, url, timeout, chunked, **httplib_request_kw)\u001b[0m\n\u001b[1;32m    376\u001b[0m             \u001b[0;32mtry\u001b[0m\u001b[0;34m:\u001b[0m  \u001b[0;31m# Python 2.7, use buffering of HTTP responses\u001b[0m\u001b[0;34m\u001b[0m\u001b[0m\n\u001b[0;32m--> 377\u001b[0;31m                 \u001b[0mhttplib_response\u001b[0m \u001b[0;34m=\u001b[0m \u001b[0mconn\u001b[0m\u001b[0;34m.\u001b[0m\u001b[0mgetresponse\u001b[0m\u001b[0;34m(\u001b[0m\u001b[0mbuffering\u001b[0m\u001b[0;34m=\u001b[0m\u001b[0;32mTrue\u001b[0m\u001b[0;34m)\u001b[0m\u001b[0;34m\u001b[0m\u001b[0m\n\u001b[0m\u001b[1;32m    378\u001b[0m             \u001b[0;32mexcept\u001b[0m \u001b[0mTypeError\u001b[0m\u001b[0;34m:\u001b[0m  \u001b[0;31m# Python 3\u001b[0m\u001b[0;34m\u001b[0m\u001b[0m\n",
      "\u001b[0;31mTypeError\u001b[0m: getresponse() got an unexpected keyword argument 'buffering'",
      "\nDuring handling of the above exception, another exception occurred:\n",
      "\u001b[0;31mKeyboardInterrupt\u001b[0m                         Traceback (most recent call last)",
      "\u001b[0;32m<ipython-input-3-f94a8893eecb>\u001b[0m in \u001b[0;36m<module>\u001b[0;34m\u001b[0m\n\u001b[1;32m      7\u001b[0m     \u001b[0;31m# Convert the league ID number to a string.\u001b[0m\u001b[0;34m\u001b[0m\u001b[0;34m\u001b[0m\u001b[0m\n\u001b[1;32m      8\u001b[0m     \u001b[0mleague_id\u001b[0m \u001b[0;34m=\u001b[0m \u001b[0mstr\u001b[0m\u001b[0;34m(\u001b[0m\u001b[0mi\u001b[0m\u001b[0;34m)\u001b[0m\u001b[0;34m.\u001b[0m\u001b[0mzfill\u001b[0m\u001b[0;34m(\u001b[0m\u001b[0;36m2\u001b[0m\u001b[0;34m)\u001b[0m\u001b[0;34m\u001b[0m\u001b[0m\n\u001b[0;32m----> 9\u001b[0;31m     teams = (leaguegamefinder.LeagueGameFinder(league_id_nullable=league_id)\n\u001b[0m\u001b[1;32m     10\u001b[0m              \u001b[0;34m.\u001b[0m\u001b[0mget_data_frames\u001b[0m\u001b[0;34m(\u001b[0m\u001b[0;34m)\u001b[0m\u001b[0;34m[\u001b[0m\u001b[0;36m0\u001b[0m\u001b[0;34m]\u001b[0m\u001b[0;34m\u001b[0m\u001b[0m\n\u001b[1;32m     11\u001b[0m              \u001b[0;34m.\u001b[0m\u001b[0mTEAM_NAME\u001b[0m\u001b[0;34m\u001b[0m\u001b[0m\n",
      "\u001b[0;32m/anaconda3/envs/nba/lib/python3.7/site-packages/nba_api/stats/endpoints/leaguegamefinder.py\u001b[0m in \u001b[0;36m__init__\u001b[0;34m(self, player_or_team_abbreviation, conference_nullable, date_from_nullable, date_to_nullable, division_simple_nullable, draft_number_nullable, draft_round_nullable, draft_team_id_nullable, draft_year_nullable, eq_ast_nullable, eq_blk_nullable, eq_dd_nullable, eq_dreb_nullable, eq_fg3a_nullable, eq_fg3m_nullable, eq_fg3_pct_nullable, eq_fga_nullable, eq_fgm_nullable, eq_fg_pct_nullable, eq_fta_nullable, eq_ftm_nullable, eq_ft_pct_nullable, eq_minutes_nullable, eq_oreb_nullable, eq_pf_nullable, eq_pts_nullable, eq_reb_nullable, eq_stl_nullable, eq_td_nullable, eq_tov_nullable, game_id_nullable, gt_ast_nullable, gt_blk_nullable, gt_dd_nullable, gt_dreb_nullable, gt_fg3a_nullable, gt_fg3m_nullable, gt_fg3_pct_nullable, gt_fga_nullable, gt_fgm_nullable, gt_fg_pct_nullable, gt_fta_nullable, gt_ftm_nullable, gt_ft_pct_nullable, gt_minutes_nullable, gt_oreb_nullable, gt_pf_nullable, gt_pts_nullable, gt_reb_nullable, gt_stl_nullable, gt_td_nullable, gt_tov_nullable, league_id_nullable, location_nullable, lt_ast_nullable, lt_blk_nullable, lt_dd_nullable, lt_dreb_nullable, lt_fg3a_nullable, lt_fg3m_nullable, lt_fg3_pct_nullable, lt_fga_nullable, lt_fgm_nullable, lt_fg_pct_nullable, lt_fta_nullable, lt_ftm_nullable, lt_ft_pct_nullable, lt_minutes_nullable, lt_oreb_nullable, lt_pf_nullable, lt_pts_nullable, lt_reb_nullable, lt_stl_nullable, lt_td_nullable, lt_tov_nullable, outcome_nullable, po_round_nullable, player_id_nullable, rookie_year_nullable, season_nullable, season_segment_nullable, season_type_nullable, starter_bench_nullable, team_id_nullable, vs_conference_nullable, vs_division_nullable, vs_team_id_nullable, years_experience_nullable)\u001b[0m\n\u001b[1;32m    187\u001b[0m                 \u001b[0;34m'VsDivision'\u001b[0m\u001b[0;34m:\u001b[0m \u001b[0mvs_division_nullable\u001b[0m\u001b[0;34m,\u001b[0m\u001b[0;34m\u001b[0m\u001b[0m\n\u001b[1;32m    188\u001b[0m                 \u001b[0;34m'VsTeamID'\u001b[0m\u001b[0;34m:\u001b[0m \u001b[0mvs_team_id_nullable\u001b[0m\u001b[0;34m,\u001b[0m\u001b[0;34m\u001b[0m\u001b[0m\n\u001b[0;32m--> 189\u001b[0;31m                 \u001b[0;34m'YearsExperience'\u001b[0m\u001b[0;34m:\u001b[0m \u001b[0myears_experience_nullable\u001b[0m\u001b[0;34m\u001b[0m\u001b[0m\n\u001b[0m\u001b[1;32m    190\u001b[0m             },\n\u001b[1;32m    191\u001b[0m         )\n",
      "\u001b[0;32m/anaconda3/envs/nba/lib/python3.7/site-packages/nba_api/library/http.py\u001b[0m in \u001b[0;36msend_api_request\u001b[0;34m(self, endpoint, parameters, referer, proxy, raise_exception_on_error)\u001b[0m\n\u001b[1;32m     99\u001b[0m \u001b[0;34m\u001b[0m\u001b[0m\n\u001b[1;32m    100\u001b[0m         \u001b[0;32mif\u001b[0m \u001b[0;32mnot\u001b[0m \u001b[0mcontents\u001b[0m\u001b[0;34m:\u001b[0m\u001b[0;34m\u001b[0m\u001b[0m\n\u001b[0;32m--> 101\u001b[0;31m             \u001b[0mresponse\u001b[0m \u001b[0;34m=\u001b[0m \u001b[0mrequests\u001b[0m\u001b[0;34m.\u001b[0m\u001b[0mget\u001b[0m\u001b[0;34m(\u001b[0m\u001b[0murl\u001b[0m\u001b[0;34m=\u001b[0m\u001b[0mbase_url\u001b[0m\u001b[0;34m,\u001b[0m \u001b[0mparams\u001b[0m\u001b[0;34m=\u001b[0m\u001b[0mparameters\u001b[0m\u001b[0;34m,\u001b[0m \u001b[0mheaders\u001b[0m\u001b[0;34m=\u001b[0m\u001b[0mheaders\u001b[0m\u001b[0;34m,\u001b[0m \u001b[0mproxies\u001b[0m\u001b[0;34m=\u001b[0m\u001b[0mproxies\u001b[0m\u001b[0;34m)\u001b[0m\u001b[0;34m\u001b[0m\u001b[0m\n\u001b[0m\u001b[1;32m    102\u001b[0m             \u001b[0murl\u001b[0m \u001b[0;34m=\u001b[0m \u001b[0mresponse\u001b[0m\u001b[0;34m.\u001b[0m\u001b[0murl\u001b[0m\u001b[0;34m\u001b[0m\u001b[0m\n\u001b[1;32m    103\u001b[0m             \u001b[0mcontents\u001b[0m \u001b[0;34m=\u001b[0m \u001b[0mresponse\u001b[0m\u001b[0;34m.\u001b[0m\u001b[0mtext\u001b[0m\u001b[0;34m\u001b[0m\u001b[0m\n",
      "\u001b[0;32m/anaconda3/envs/nba/lib/python3.7/site-packages/requests/api.py\u001b[0m in \u001b[0;36mget\u001b[0;34m(url, params, **kwargs)\u001b[0m\n\u001b[1;32m     73\u001b[0m \u001b[0;34m\u001b[0m\u001b[0m\n\u001b[1;32m     74\u001b[0m     \u001b[0mkwargs\u001b[0m\u001b[0;34m.\u001b[0m\u001b[0msetdefault\u001b[0m\u001b[0;34m(\u001b[0m\u001b[0;34m'allow_redirects'\u001b[0m\u001b[0;34m,\u001b[0m \u001b[0;32mTrue\u001b[0m\u001b[0;34m)\u001b[0m\u001b[0;34m\u001b[0m\u001b[0m\n\u001b[0;32m---> 75\u001b[0;31m     \u001b[0;32mreturn\u001b[0m \u001b[0mrequest\u001b[0m\u001b[0;34m(\u001b[0m\u001b[0;34m'get'\u001b[0m\u001b[0;34m,\u001b[0m \u001b[0murl\u001b[0m\u001b[0;34m,\u001b[0m \u001b[0mparams\u001b[0m\u001b[0;34m=\u001b[0m\u001b[0mparams\u001b[0m\u001b[0;34m,\u001b[0m \u001b[0;34m**\u001b[0m\u001b[0mkwargs\u001b[0m\u001b[0;34m)\u001b[0m\u001b[0;34m\u001b[0m\u001b[0m\n\u001b[0m\u001b[1;32m     76\u001b[0m \u001b[0;34m\u001b[0m\u001b[0m\n\u001b[1;32m     77\u001b[0m \u001b[0;34m\u001b[0m\u001b[0m\n",
      "\u001b[0;32m/anaconda3/envs/nba/lib/python3.7/site-packages/requests/api.py\u001b[0m in \u001b[0;36mrequest\u001b[0;34m(method, url, **kwargs)\u001b[0m\n\u001b[1;32m     58\u001b[0m     \u001b[0;31m# cases, and look like a memory leak in others.\u001b[0m\u001b[0;34m\u001b[0m\u001b[0;34m\u001b[0m\u001b[0m\n\u001b[1;32m     59\u001b[0m     \u001b[0;32mwith\u001b[0m \u001b[0msessions\u001b[0m\u001b[0;34m.\u001b[0m\u001b[0mSession\u001b[0m\u001b[0;34m(\u001b[0m\u001b[0;34m)\u001b[0m \u001b[0;32mas\u001b[0m \u001b[0msession\u001b[0m\u001b[0;34m:\u001b[0m\u001b[0;34m\u001b[0m\u001b[0m\n\u001b[0;32m---> 60\u001b[0;31m         \u001b[0;32mreturn\u001b[0m \u001b[0msession\u001b[0m\u001b[0;34m.\u001b[0m\u001b[0mrequest\u001b[0m\u001b[0;34m(\u001b[0m\u001b[0mmethod\u001b[0m\u001b[0;34m=\u001b[0m\u001b[0mmethod\u001b[0m\u001b[0;34m,\u001b[0m \u001b[0murl\u001b[0m\u001b[0;34m=\u001b[0m\u001b[0murl\u001b[0m\u001b[0;34m,\u001b[0m \u001b[0;34m**\u001b[0m\u001b[0mkwargs\u001b[0m\u001b[0;34m)\u001b[0m\u001b[0;34m\u001b[0m\u001b[0m\n\u001b[0m\u001b[1;32m     61\u001b[0m \u001b[0;34m\u001b[0m\u001b[0m\n\u001b[1;32m     62\u001b[0m \u001b[0;34m\u001b[0m\u001b[0m\n",
      "\u001b[0;32m/anaconda3/envs/nba/lib/python3.7/site-packages/requests/sessions.py\u001b[0m in \u001b[0;36mrequest\u001b[0;34m(self, method, url, params, data, headers, cookies, files, auth, timeout, allow_redirects, proxies, hooks, stream, verify, cert, json)\u001b[0m\n\u001b[1;32m    522\u001b[0m         }\n\u001b[1;32m    523\u001b[0m         \u001b[0msend_kwargs\u001b[0m\u001b[0;34m.\u001b[0m\u001b[0mupdate\u001b[0m\u001b[0;34m(\u001b[0m\u001b[0msettings\u001b[0m\u001b[0;34m)\u001b[0m\u001b[0;34m\u001b[0m\u001b[0m\n\u001b[0;32m--> 524\u001b[0;31m         \u001b[0mresp\u001b[0m \u001b[0;34m=\u001b[0m \u001b[0mself\u001b[0m\u001b[0;34m.\u001b[0m\u001b[0msend\u001b[0m\u001b[0;34m(\u001b[0m\u001b[0mprep\u001b[0m\u001b[0;34m,\u001b[0m \u001b[0;34m**\u001b[0m\u001b[0msend_kwargs\u001b[0m\u001b[0;34m)\u001b[0m\u001b[0;34m\u001b[0m\u001b[0m\n\u001b[0m\u001b[1;32m    525\u001b[0m \u001b[0;34m\u001b[0m\u001b[0m\n\u001b[1;32m    526\u001b[0m         \u001b[0;32mreturn\u001b[0m \u001b[0mresp\u001b[0m\u001b[0;34m\u001b[0m\u001b[0m\n",
      "\u001b[0;32m/anaconda3/envs/nba/lib/python3.7/site-packages/requests/sessions.py\u001b[0m in \u001b[0;36msend\u001b[0;34m(self, request, **kwargs)\u001b[0m\n\u001b[1;32m    635\u001b[0m \u001b[0;34m\u001b[0m\u001b[0m\n\u001b[1;32m    636\u001b[0m         \u001b[0;31m# Send the request\u001b[0m\u001b[0;34m\u001b[0m\u001b[0;34m\u001b[0m\u001b[0m\n\u001b[0;32m--> 637\u001b[0;31m         \u001b[0mr\u001b[0m \u001b[0;34m=\u001b[0m \u001b[0madapter\u001b[0m\u001b[0;34m.\u001b[0m\u001b[0msend\u001b[0m\u001b[0;34m(\u001b[0m\u001b[0mrequest\u001b[0m\u001b[0;34m,\u001b[0m \u001b[0;34m**\u001b[0m\u001b[0mkwargs\u001b[0m\u001b[0;34m)\u001b[0m\u001b[0;34m\u001b[0m\u001b[0m\n\u001b[0m\u001b[1;32m    638\u001b[0m \u001b[0;34m\u001b[0m\u001b[0m\n\u001b[1;32m    639\u001b[0m         \u001b[0;31m# Total elapsed time of the request (approximately)\u001b[0m\u001b[0;34m\u001b[0m\u001b[0;34m\u001b[0m\u001b[0m\n",
      "\u001b[0;32m/anaconda3/envs/nba/lib/python3.7/site-packages/requests/adapters.py\u001b[0m in \u001b[0;36msend\u001b[0;34m(self, request, stream, timeout, verify, cert, proxies)\u001b[0m\n\u001b[1;32m    447\u001b[0m                     \u001b[0mdecode_content\u001b[0m\u001b[0;34m=\u001b[0m\u001b[0;32mFalse\u001b[0m\u001b[0;34m,\u001b[0m\u001b[0;34m\u001b[0m\u001b[0m\n\u001b[1;32m    448\u001b[0m                     \u001b[0mretries\u001b[0m\u001b[0;34m=\u001b[0m\u001b[0mself\u001b[0m\u001b[0;34m.\u001b[0m\u001b[0mmax_retries\u001b[0m\u001b[0;34m,\u001b[0m\u001b[0;34m\u001b[0m\u001b[0m\n\u001b[0;32m--> 449\u001b[0;31m                     \u001b[0mtimeout\u001b[0m\u001b[0;34m=\u001b[0m\u001b[0mtimeout\u001b[0m\u001b[0;34m\u001b[0m\u001b[0m\n\u001b[0m\u001b[1;32m    450\u001b[0m                 )\n\u001b[1;32m    451\u001b[0m \u001b[0;34m\u001b[0m\u001b[0m\n",
      "\u001b[0;32m/anaconda3/envs/nba/lib/python3.7/site-packages/urllib3/connectionpool.py\u001b[0m in \u001b[0;36murlopen\u001b[0;34m(self, method, url, body, headers, retries, redirect, assert_same_host, timeout, pool_timeout, release_conn, chunked, body_pos, **response_kw)\u001b[0m\n\u001b[1;32m    598\u001b[0m                                                   \u001b[0mtimeout\u001b[0m\u001b[0;34m=\u001b[0m\u001b[0mtimeout_obj\u001b[0m\u001b[0;34m,\u001b[0m\u001b[0;34m\u001b[0m\u001b[0m\n\u001b[1;32m    599\u001b[0m                                                   \u001b[0mbody\u001b[0m\u001b[0;34m=\u001b[0m\u001b[0mbody\u001b[0m\u001b[0;34m,\u001b[0m \u001b[0mheaders\u001b[0m\u001b[0;34m=\u001b[0m\u001b[0mheaders\u001b[0m\u001b[0;34m,\u001b[0m\u001b[0;34m\u001b[0m\u001b[0m\n\u001b[0;32m--> 600\u001b[0;31m                                                   chunked=chunked)\n\u001b[0m\u001b[1;32m    601\u001b[0m \u001b[0;34m\u001b[0m\u001b[0m\n\u001b[1;32m    602\u001b[0m             \u001b[0;31m# If we're going to release the connection in ``finally:``, then\u001b[0m\u001b[0;34m\u001b[0m\u001b[0;34m\u001b[0m\u001b[0m\n",
      "\u001b[0;32m/anaconda3/envs/nba/lib/python3.7/site-packages/urllib3/connectionpool.py\u001b[0m in \u001b[0;36m_make_request\u001b[0;34m(self, conn, method, url, timeout, chunked, **httplib_request_kw)\u001b[0m\n\u001b[1;32m    378\u001b[0m             \u001b[0;32mexcept\u001b[0m \u001b[0mTypeError\u001b[0m\u001b[0;34m:\u001b[0m  \u001b[0;31m# Python 3\u001b[0m\u001b[0;34m\u001b[0m\u001b[0m\n\u001b[1;32m    379\u001b[0m                 \u001b[0;32mtry\u001b[0m\u001b[0;34m:\u001b[0m\u001b[0;34m\u001b[0m\u001b[0m\n\u001b[0;32m--> 380\u001b[0;31m                     \u001b[0mhttplib_response\u001b[0m \u001b[0;34m=\u001b[0m \u001b[0mconn\u001b[0m\u001b[0;34m.\u001b[0m\u001b[0mgetresponse\u001b[0m\u001b[0;34m(\u001b[0m\u001b[0;34m)\u001b[0m\u001b[0;34m\u001b[0m\u001b[0m\n\u001b[0m\u001b[1;32m    381\u001b[0m                 \u001b[0;32mexcept\u001b[0m \u001b[0mException\u001b[0m \u001b[0;32mas\u001b[0m \u001b[0me\u001b[0m\u001b[0;34m:\u001b[0m\u001b[0;34m\u001b[0m\u001b[0m\n\u001b[1;32m    382\u001b[0m                     \u001b[0;31m# Remove the TypeError from the exception chain in Python 3;\u001b[0m\u001b[0;34m\u001b[0m\u001b[0;34m\u001b[0m\u001b[0m\n",
      "\u001b[0;32m/anaconda3/envs/nba/lib/python3.7/http/client.py\u001b[0m in \u001b[0;36mgetresponse\u001b[0;34m(self)\u001b[0m\n\u001b[1;32m   1319\u001b[0m         \u001b[0;32mtry\u001b[0m\u001b[0;34m:\u001b[0m\u001b[0;34m\u001b[0m\u001b[0m\n\u001b[1;32m   1320\u001b[0m             \u001b[0;32mtry\u001b[0m\u001b[0;34m:\u001b[0m\u001b[0;34m\u001b[0m\u001b[0m\n\u001b[0;32m-> 1321\u001b[0;31m                 \u001b[0mresponse\u001b[0m\u001b[0;34m.\u001b[0m\u001b[0mbegin\u001b[0m\u001b[0;34m(\u001b[0m\u001b[0;34m)\u001b[0m\u001b[0;34m\u001b[0m\u001b[0m\n\u001b[0m\u001b[1;32m   1322\u001b[0m             \u001b[0;32mexcept\u001b[0m \u001b[0mConnectionError\u001b[0m\u001b[0;34m:\u001b[0m\u001b[0;34m\u001b[0m\u001b[0m\n\u001b[1;32m   1323\u001b[0m                 \u001b[0mself\u001b[0m\u001b[0;34m.\u001b[0m\u001b[0mclose\u001b[0m\u001b[0;34m(\u001b[0m\u001b[0;34m)\u001b[0m\u001b[0;34m\u001b[0m\u001b[0m\n",
      "\u001b[0;32m/anaconda3/envs/nba/lib/python3.7/http/client.py\u001b[0m in \u001b[0;36mbegin\u001b[0;34m(self)\u001b[0m\n\u001b[1;32m    294\u001b[0m         \u001b[0;31m# read until we get a non-100 response\u001b[0m\u001b[0;34m\u001b[0m\u001b[0;34m\u001b[0m\u001b[0m\n\u001b[1;32m    295\u001b[0m         \u001b[0;32mwhile\u001b[0m \u001b[0;32mTrue\u001b[0m\u001b[0;34m:\u001b[0m\u001b[0;34m\u001b[0m\u001b[0m\n\u001b[0;32m--> 296\u001b[0;31m             \u001b[0mversion\u001b[0m\u001b[0;34m,\u001b[0m \u001b[0mstatus\u001b[0m\u001b[0;34m,\u001b[0m \u001b[0mreason\u001b[0m \u001b[0;34m=\u001b[0m \u001b[0mself\u001b[0m\u001b[0;34m.\u001b[0m\u001b[0m_read_status\u001b[0m\u001b[0;34m(\u001b[0m\u001b[0;34m)\u001b[0m\u001b[0;34m\u001b[0m\u001b[0m\n\u001b[0m\u001b[1;32m    297\u001b[0m             \u001b[0;32mif\u001b[0m \u001b[0mstatus\u001b[0m \u001b[0;34m!=\u001b[0m \u001b[0mCONTINUE\u001b[0m\u001b[0;34m:\u001b[0m\u001b[0;34m\u001b[0m\u001b[0m\n\u001b[1;32m    298\u001b[0m                 \u001b[0;32mbreak\u001b[0m\u001b[0;34m\u001b[0m\u001b[0m\n",
      "\u001b[0;32m/anaconda3/envs/nba/lib/python3.7/http/client.py\u001b[0m in \u001b[0;36m_read_status\u001b[0;34m(self)\u001b[0m\n\u001b[1;32m    255\u001b[0m \u001b[0;34m\u001b[0m\u001b[0m\n\u001b[1;32m    256\u001b[0m     \u001b[0;32mdef\u001b[0m \u001b[0m_read_status\u001b[0m\u001b[0;34m(\u001b[0m\u001b[0mself\u001b[0m\u001b[0;34m)\u001b[0m\u001b[0;34m:\u001b[0m\u001b[0;34m\u001b[0m\u001b[0m\n\u001b[0;32m--> 257\u001b[0;31m         \u001b[0mline\u001b[0m \u001b[0;34m=\u001b[0m \u001b[0mstr\u001b[0m\u001b[0;34m(\u001b[0m\u001b[0mself\u001b[0m\u001b[0;34m.\u001b[0m\u001b[0mfp\u001b[0m\u001b[0;34m.\u001b[0m\u001b[0mreadline\u001b[0m\u001b[0;34m(\u001b[0m\u001b[0m_MAXLINE\u001b[0m \u001b[0;34m+\u001b[0m \u001b[0;36m1\u001b[0m\u001b[0;34m)\u001b[0m\u001b[0;34m,\u001b[0m \u001b[0;34m\"iso-8859-1\"\u001b[0m\u001b[0;34m)\u001b[0m\u001b[0;34m\u001b[0m\u001b[0m\n\u001b[0m\u001b[1;32m    258\u001b[0m         \u001b[0;32mif\u001b[0m \u001b[0mlen\u001b[0m\u001b[0;34m(\u001b[0m\u001b[0mline\u001b[0m\u001b[0;34m)\u001b[0m \u001b[0;34m>\u001b[0m \u001b[0m_MAXLINE\u001b[0m\u001b[0;34m:\u001b[0m\u001b[0;34m\u001b[0m\u001b[0m\n\u001b[1;32m    259\u001b[0m             \u001b[0;32mraise\u001b[0m \u001b[0mLineTooLong\u001b[0m\u001b[0;34m(\u001b[0m\u001b[0;34m\"status line\"\u001b[0m\u001b[0;34m)\u001b[0m\u001b[0;34m\u001b[0m\u001b[0m\n",
      "\u001b[0;32m/anaconda3/envs/nba/lib/python3.7/socket.py\u001b[0m in \u001b[0;36mreadinto\u001b[0;34m(self, b)\u001b[0m\n\u001b[1;32m    587\u001b[0m         \u001b[0;32mwhile\u001b[0m \u001b[0;32mTrue\u001b[0m\u001b[0;34m:\u001b[0m\u001b[0;34m\u001b[0m\u001b[0m\n\u001b[1;32m    588\u001b[0m             \u001b[0;32mtry\u001b[0m\u001b[0;34m:\u001b[0m\u001b[0;34m\u001b[0m\u001b[0m\n\u001b[0;32m--> 589\u001b[0;31m                 \u001b[0;32mreturn\u001b[0m \u001b[0mself\u001b[0m\u001b[0;34m.\u001b[0m\u001b[0m_sock\u001b[0m\u001b[0;34m.\u001b[0m\u001b[0mrecv_into\u001b[0m\u001b[0;34m(\u001b[0m\u001b[0mb\u001b[0m\u001b[0;34m)\u001b[0m\u001b[0;34m\u001b[0m\u001b[0m\n\u001b[0m\u001b[1;32m    590\u001b[0m             \u001b[0;32mexcept\u001b[0m \u001b[0mtimeout\u001b[0m\u001b[0;34m:\u001b[0m\u001b[0;34m\u001b[0m\u001b[0m\n\u001b[1;32m    591\u001b[0m                 \u001b[0mself\u001b[0m\u001b[0;34m.\u001b[0m\u001b[0m_timeout_occurred\u001b[0m \u001b[0;34m=\u001b[0m \u001b[0;32mTrue\u001b[0m\u001b[0;34m\u001b[0m\u001b[0m\n",
      "\u001b[0;31mKeyboardInterrupt\u001b[0m: "
     ]
    }
   ],
   "source": [
    "from eventlet.timeout import Timeout\n",
    "from showprogress import showprogress\n",
    "leagues = {}\n",
    "for i in showprogress(range(100), text='Leagues'):\n",
    "    # Convert the league ID number to a string.\n",
    "    league_id = str(i).zfill(2)\n",
    "    teams = (leaguegamefinder.LeagueGameFinder(league_id_nullable=league_id)\n",
    "             .get_data_frames()[0]\n",
    "             .TEAM_NAME\n",
    "             .unique()).tolist()\n",
    "    leagues[league_id] = teams"
   ]
  },
  {
   "cell_type": "markdown",
   "metadata": {},
   "source": [
    "Every time I ran the above, it hung up -- either on League 10, 33, or 66.\n",
    "I'll examine just the first 29."
   ]
  },
  {
   "cell_type": "code",
   "execution_count": 4,
   "metadata": {},
   "outputs": [
    {
     "data": {
      "text/plain": [
       "[('00', 92),\n",
       " ('01', 0),\n",
       " ('02', 0),\n",
       " ('03', 0),\n",
       " ('04', 0),\n",
       " ('05', 0),\n",
       " ('06', 0),\n",
       " ('07', 2),\n",
       " ('08', 12),\n",
       " ('09', 4),\n",
       " ('10', 44),\n",
       " ('11', 0),\n",
       " ('12', 0),\n",
       " ('13', 4),\n",
       " ('14', 19),\n",
       " ('15', 37),\n",
       " ('16', 6),\n",
       " ('17', 28),\n",
       " ('18', 0),\n",
       " ('19', 20),\n",
       " ('20', 68),\n",
       " ('21', 0),\n",
       " ('22', 0),\n",
       " ('23', 0),\n",
       " ('24', 0),\n",
       " ('25', 0),\n",
       " ('26', 0),\n",
       " ('27', 0),\n",
       " ('28', 0)]"
      ]
     },
     "execution_count": 4,
     "metadata": {},
     "output_type": "execute_result"
    }
   ],
   "source": [
    "uniqs = {key: pd.Series(leagues[key]).unique().tolist() for key in leagues}\n",
    "[(key, len(uniqs[key])) for key in uniqs]"
   ]
  },
  {
   "cell_type": "markdown",
   "metadata": {},
   "source": [
    "The best candidate to be the NBA (at least 30 teams but not too far over) is League 15.\n",
    "Let's look."
   ]
  },
  {
   "cell_type": "code",
   "execution_count": 5,
   "metadata": {},
   "outputs": [
    {
     "data": {
      "text/plain": [
       "['Los Angeles Lakers',\n",
       " 'Portland Trail Blazers',\n",
       " 'Cleveland Cavaliers',\n",
       " 'Memphis Grizzlies',\n",
       " 'Detroit Pistons',\n",
       " 'Boston Celtics',\n",
       " 'Philadelphia 76ers',\n",
       " 'Toronto Raptors',\n",
       " 'Houston Rockets',\n",
       " 'Milwaukee Bucks',\n",
       " 'Charlotte Hornets',\n",
       " 'Utah Jazz',\n",
       " 'Miami Heat',\n",
       " 'Chicago Bulls',\n",
       " 'New York Knicks',\n",
       " 'Dallas Mavericks',\n",
       " 'Denver Nuggets',\n",
       " 'Phoenix Suns',\n",
       " 'Golden State Warriors',\n",
       " 'Oklahoma City Thunder',\n",
       " 'Sacramento Kings',\n",
       " 'Minnesota Timberwolves',\n",
       " 'Brooklyn Nets',\n",
       " 'San Antonio Spurs',\n",
       " 'Orlando Magic',\n",
       " 'Washington Wizards',\n",
       " 'Atlanta Hawks',\n",
       " 'New Orleans Pelicans',\n",
       " 'LA Clippers',\n",
       " 'Indiana Pacers',\n",
       " 'D-League NBA D-League Select',\n",
       " 'Los Angeles Clippers',\n",
       " 'Charlotte Bobcats',\n",
       " 'New Orleans Hornets',\n",
       " ' NBA D-League Select',\n",
       " 'Seattle SuperSonics',\n",
       " '  Team China Basketball']"
      ]
     },
     "execution_count": 5,
     "metadata": {},
     "output_type": "execute_result"
    }
   ],
   "source": [
    "uniqs['15']"
   ]
  },
  {
   "cell_type": "markdown",
   "metadata": {},
   "source": [
    "I'd say we found it.\n",
    "My guess is that the non-NBA teams here (Team China, NBA D-League Select) played against an NBA team at some point so are included in the league's games."
   ]
  },
  {
   "cell_type": "markdown",
   "metadata": {},
   "source": [
    "### Teams\n",
    "The League IDs don't appear reliable for fetching teams.\n",
    "Luckily, in the nba_api docs I uncovered a `get_teams()` method that appears to be static and simply returns the 30 teams."
   ]
  },
  {
   "cell_type": "code",
   "execution_count": 12,
   "metadata": {},
   "outputs": [
    {
     "name": "stdout",
     "output_type": "stream",
     "text": [
      "30\n"
     ]
    },
    {
     "data": {
      "text/plain": [
       "[{'id': 1610612737,\n",
       "  'full_name': 'Atlanta Hawks',\n",
       "  'abbreviation': 'ATL',\n",
       "  'nickname': 'Hawks',\n",
       "  'city': 'Atlanta',\n",
       "  'state': 'Atlanta',\n",
       "  'year_founded': 1949},\n",
       " {'id': 1610612738,\n",
       "  'full_name': 'Boston Celtics',\n",
       "  'abbreviation': 'BOS',\n",
       "  'nickname': 'Celtics',\n",
       "  'city': 'Boston',\n",
       "  'state': 'Massachusetts',\n",
       "  'year_founded': 1946},\n",
       " {'id': 1610612739,\n",
       "  'full_name': 'Cleveland Cavaliers',\n",
       "  'abbreviation': 'CLE',\n",
       "  'nickname': 'Cavaliers',\n",
       "  'city': 'Cleveland',\n",
       "  'state': 'Ohio',\n",
       "  'year_founded': 1970},\n",
       " {'id': 1610612740,\n",
       "  'full_name': 'New Orleans Pelicans',\n",
       "  'abbreviation': 'NOP',\n",
       "  'nickname': 'Pelicans',\n",
       "  'city': 'New Orleans',\n",
       "  'state': 'Louisiana',\n",
       "  'year_founded': 2002},\n",
       " {'id': 1610612741,\n",
       "  'full_name': 'Chicago Bulls',\n",
       "  'abbreviation': 'CHI',\n",
       "  'nickname': 'Bulls',\n",
       "  'city': 'Chicago',\n",
       "  'state': 'Illinois',\n",
       "  'year_founded': 1966}]"
      ]
     },
     "execution_count": 12,
     "metadata": {},
     "output_type": "execute_result"
    }
   ],
   "source": [
    "teams = get_teams()\n",
    "print(len(teams))\n",
    "teams[:5]"
   ]
  },
  {
   "cell_type": "markdown",
   "metadata": {},
   "source": [
    "Looks pretty good.\n",
    "30 teams, and the info on them is solid.\n",
    "\n",
    "I was just wondering how teams that are named only after a state (*Minnesota* Timberwolves) were handled and happened on this."
   ]
  },
  {
   "cell_type": "code",
   "execution_count": 13,
   "metadata": {},
   "outputs": [
    {
     "data": {
      "text/plain": [
       "[{'id': 1610612737,\n",
       "  'full_name': 'Atlanta Hawks',\n",
       "  'abbreviation': 'ATL',\n",
       "  'nickname': 'Hawks',\n",
       "  'city': 'Atlanta',\n",
       "  'state': 'Atlanta',\n",
       "  'year_founded': 1949},\n",
       " {'id': 1610612750,\n",
       "  'full_name': 'Minnesota Timberwolves',\n",
       "  'abbreviation': 'MIN',\n",
       "  'nickname': 'Timberwolves',\n",
       "  'city': 'Minnesota',\n",
       "  'state': 'Minnesota',\n",
       "  'year_founded': 1989},\n",
       " {'id': 1610612752,\n",
       "  'full_name': 'New York Knicks',\n",
       "  'abbreviation': 'NYK',\n",
       "  'nickname': 'Knicks',\n",
       "  'city': 'New York',\n",
       "  'state': 'New York',\n",
       "  'year_founded': 1946},\n",
       " {'id': 1610612754,\n",
       "  'full_name': 'Indiana Pacers',\n",
       "  'abbreviation': 'IND',\n",
       "  'nickname': 'Pacers',\n",
       "  'city': 'Indiana',\n",
       "  'state': 'Indiana',\n",
       "  'year_founded': 1976},\n",
       " {'id': 1610612762,\n",
       "  'full_name': 'Utah Jazz',\n",
       "  'abbreviation': 'UTA',\n",
       "  'nickname': 'Jazz',\n",
       "  'city': 'Utah',\n",
       "  'state': 'Utah',\n",
       "  'year_founded': 1974}]"
      ]
     },
     "execution_count": 13,
     "metadata": {},
     "output_type": "execute_result"
    }
   ],
   "source": [
    "[team for team in teams if team['city'] == team['state']]"
   ]
  },
  {
   "cell_type": "markdown",
   "metadata": {},
   "source": [
    "Really, all we'll need from this to get play-by-play data is team IDs, which are simple to extract."
   ]
  },
  {
   "cell_type": "code",
   "execution_count": 14,
   "metadata": {},
   "outputs": [
    {
     "name": "stdout",
     "output_type": "stream",
     "text": [
      "{1610612737: 'Atlanta Hawks', 1610612738: 'Boston Celtics', 1610612739: 'Cleveland Cavaliers', 1610612740: 'New Orleans Pelicans', 1610612741: 'Chicago Bulls', 1610612742: 'Dallas Mavericks', 1610612743: 'Denver Nuggets', 1610612744: 'Golden State Warriors', 1610612745: 'Houston Rockets', 1610612746: 'Los Angeles Clippers', 1610612747: 'Los Angeles Lakers', 1610612748: 'Miami Heat', 1610612749: 'Milwaukee Bucks', 1610612750: 'Minnesota Timberwolves', 1610612751: 'Brooklyn Nets', 1610612752: 'New York Knicks', 1610612753: 'Orlando Magic', 1610612754: 'Indiana Pacers', 1610612755: 'Philadelphia 76ers', 1610612756: 'Phoenix Suns', 1610612757: 'Portland Trail Blazers', 1610612758: 'Sacramento Kings', 1610612759: 'San Antonio Spurs', 1610612760: 'Oklahoma City Thunder', 1610612761: 'Toronto Raptors', 1610612762: 'Utah Jazz', 1610612763: 'Memphis Grizzlies', 1610612764: 'Washington Wizards', 1610612765: 'Detroit Pistons', 1610612766: 'Charlotte Hornets'}\n"
     ]
    }
   ],
   "source": [
    "team_ids = {team['id']: team['full_name'] for team in teams}\n",
    "print(team_ids)"
   ]
  }
 ],
 "metadata": {
  "kernelspec": {
   "display_name": "nba",
   "language": "python",
   "name": "nba"
  },
  "language_info": {
   "codemirror_mode": {
    "name": "ipython",
    "version": 3
   },
   "file_extension": ".py",
   "mimetype": "text/x-python",
   "name": "python",
   "nbconvert_exporter": "python",
   "pygments_lexer": "ipython3",
   "version": "3.7.0"
  }
 },
 "nbformat": 4,
 "nbformat_minor": 2
}
